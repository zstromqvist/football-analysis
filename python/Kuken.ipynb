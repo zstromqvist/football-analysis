{
 "cells": [
  {
   "cell_type": "code",
   "execution_count": 6,
   "metadata": {},
   "outputs": [],
   "source": [
    "import requests\n",
    "import pandas as pd"
   ]
  },
  {
   "cell_type": "code",
   "execution_count": 7,
   "metadata": {},
   "outputs": [],
   "source": [
    "resp = requests.get('https://api.sleeper.app/v1/players/nfl')\n",
    "if resp.status_code != 200:\n",
    "    # This means something went wrong.\n",
    "    raise ApiError('GET /tasks/ {}'.format(resp.status_code))"
   ]
  },
  {
   "cell_type": "code",
   "execution_count": 17,
   "metadata": {},
   "outputs": [
    {
     "data": {
      "text/plain": [
       "{'position': 'OT',\n",
       " 'depth_chart_position': None,\n",
       " 'sportradar_id': '4cd4976e-e230-4935-ad3f-c12876a41350',\n",
       " 'birth_city': None,\n",
       " 'birth_state': None,\n",
       " 'hashtag': '#CodyBooth-NFL-FA-60',\n",
       " 'rotowire_id': 9866,\n",
       " 'team': None,\n",
       " 'pandascore_id': None,\n",
       " 'status': 'Inactive',\n",
       " 'weight': '285',\n",
       " 'birth_country': None,\n",
       " 'full_name': 'Cody Booth',\n",
       " 'rotoworld_id': None,\n",
       " 'fantasy_data_id': 16426,\n",
       " 'search_first_name': 'cody',\n",
       " 'last_name': 'Booth',\n",
       " 'fantasy_positions': ['OL'],\n",
       " 'active': False,\n",
       " 'search_full_name': 'codybooth',\n",
       " 'gsis_id': None,\n",
       " 'injury_notes': None,\n",
       " 'news_updated': None,\n",
       " 'sport': 'nfl',\n",
       " 'espn_id': 17054,\n",
       " 'yahoo_id': 27841,\n",
       " 'number': 60,\n",
       " 'injury_start_date': None,\n",
       " 'injury_status': None,\n",
       " 'search_rank': 9999999,\n",
       " 'player_id': '2103',\n",
       " 'metadata': None,\n",
       " 'height': '6\\'5\"',\n",
       " 'age': 27,\n",
       " 'search_last_name': 'booth',\n",
       " 'high_school': None,\n",
       " 'years_exp': 1,\n",
       " 'practice_participation': None,\n",
       " 'birth_date': '1991-04-22',\n",
       " 'depth_chart_order': None,\n",
       " 'first_name': 'Cody',\n",
       " 'college': 'Temple',\n",
       " 'practice_description': None,\n",
       " 'stats_id': None,\n",
       " 'injury_body_part': None}"
      ]
     },
     "execution_count": 17,
     "metadata": {},
     "output_type": "execute_result"
    }
   ],
   "source": [
    "resp.json()['2103']"
   ]
  },
  {
   "cell_type": "code",
   "execution_count": 18,
   "metadata": {},
   "outputs": [],
   "source": [
    "#df = pd.read_json (r'player_data_2020_10_13.json')\n",
    "df = pd.json_normalize(resp.json()['2013'])"
   ]
  },
  {
   "cell_type": "code",
   "execution_count": 19,
   "metadata": {},
   "outputs": [
    {
     "data": {
      "text/html": [
       "<div>\n",
       "<style scoped>\n",
       "    .dataframe tbody tr th:only-of-type {\n",
       "        vertical-align: middle;\n",
       "    }\n",
       "\n",
       "    .dataframe tbody tr th {\n",
       "        vertical-align: top;\n",
       "    }\n",
       "\n",
       "    .dataframe thead th {\n",
       "        text-align: right;\n",
       "    }\n",
       "</style>\n",
       "<table border=\"1\" class=\"dataframe\">\n",
       "  <thead>\n",
       "    <tr style=\"text-align: right;\">\n",
       "      <th></th>\n",
       "      <th>position</th>\n",
       "      <th>depth_chart_position</th>\n",
       "      <th>sportradar_id</th>\n",
       "      <th>birth_city</th>\n",
       "      <th>birth_state</th>\n",
       "      <th>hashtag</th>\n",
       "      <th>rotowire_id</th>\n",
       "      <th>team</th>\n",
       "      <th>pandascore_id</th>\n",
       "      <th>status</th>\n",
       "      <th>...</th>\n",
       "      <th>high_school</th>\n",
       "      <th>years_exp</th>\n",
       "      <th>practice_participation</th>\n",
       "      <th>birth_date</th>\n",
       "      <th>depth_chart_order</th>\n",
       "      <th>first_name</th>\n",
       "      <th>college</th>\n",
       "      <th>practice_description</th>\n",
       "      <th>stats_id</th>\n",
       "      <th>injury_body_part</th>\n",
       "    </tr>\n",
       "  </thead>\n",
       "  <tbody>\n",
       "    <tr>\n",
       "      <th>0</th>\n",
       "      <td>CB</td>\n",
       "      <td>None</td>\n",
       "      <td>26a67351-ae18-4b13-bf2d-cfee5142b380</td>\n",
       "      <td>None</td>\n",
       "      <td>None</td>\n",
       "      <td>#LouisYoung-NFL-FA-32</td>\n",
       "      <td>10070</td>\n",
       "      <td>None</td>\n",
       "      <td>None</td>\n",
       "      <td>Inactive</td>\n",
       "      <td>...</td>\n",
       "      <td>None</td>\n",
       "      <td>6</td>\n",
       "      <td>None</td>\n",
       "      <td>1991-10-09</td>\n",
       "      <td>None</td>\n",
       "      <td>Louis</td>\n",
       "      <td>Georgia Tech</td>\n",
       "      <td>None</td>\n",
       "      <td>None</td>\n",
       "      <td>None</td>\n",
       "    </tr>\n",
       "  </tbody>\n",
       "</table>\n",
       "<p>1 rows × 45 columns</p>\n",
       "</div>"
      ],
      "text/plain": [
       "  position depth_chart_position                         sportradar_id  \\\n",
       "0       CB                 None  26a67351-ae18-4b13-bf2d-cfee5142b380   \n",
       "\n",
       "  birth_city birth_state                hashtag  rotowire_id  team  \\\n",
       "0       None        None  #LouisYoung-NFL-FA-32        10070  None   \n",
       "\n",
       "  pandascore_id    status  ... high_school years_exp practice_participation  \\\n",
       "0          None  Inactive  ...        None         6                   None   \n",
       "\n",
       "   birth_date  depth_chart_order first_name       college  \\\n",
       "0  1991-10-09               None      Louis  Georgia Tech   \n",
       "\n",
       "  practice_description  stats_id injury_body_part  \n",
       "0                 None      None             None  \n",
       "\n",
       "[1 rows x 45 columns]"
      ]
     },
     "execution_count": 19,
     "metadata": {},
     "output_type": "execute_result"
    }
   ],
   "source": [
    "df"
   ]
  },
  {
   "cell_type": "code",
   "execution_count": null,
   "metadata": {},
   "outputs": [],
   "source": []
  }
 ],
 "metadata": {
  "kernelspec": {
   "display_name": "Python 3",
   "language": "python",
   "name": "python3"
  },
  "language_info": {
   "codemirror_mode": {
    "name": "ipython",
    "version": 3
   },
   "file_extension": ".py",
   "mimetype": "text/x-python",
   "name": "python",
   "nbconvert_exporter": "python",
   "pygments_lexer": "ipython3",
   "version": "3.7.7"
  }
 },
 "nbformat": 4,
 "nbformat_minor": 4
}
